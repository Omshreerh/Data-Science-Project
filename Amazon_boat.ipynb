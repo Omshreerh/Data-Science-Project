{
  "cells": [
    {
      "cell_type": "markdown",
      "metadata": {
        "id": "view-in-github",
        "colab_type": "text"
      },
      "source": [
        "<a href=\"https://colab.research.google.com/github/Omshreerh/Data-Science-Project/blob/main/Amazon_boat.ipynb\" target=\"_parent\"><img src=\"https://colab.research.google.com/assets/colab-badge.svg\" alt=\"Open In Colab\"/></a>"
      ]
    },
    {
      "cell_type": "code",
      "execution_count": 1,
      "id": "outdoor-chart",
      "metadata": {
        "id": "outdoor-chart"
      },
      "outputs": [],
      "source": [
        "import requests\n",
        "from bs4 import BeautifulSoup"
      ]
    },
    {
      "cell_type": "code",
      "execution_count": 2,
      "id": "sized-restaurant",
      "metadata": {
        "id": "sized-restaurant"
      },
      "outputs": [],
      "source": [
        "import pandas as pd"
      ]
    },
    {
      "cell_type": "code",
      "execution_count": 3,
      "id": "grIbB9QtHsLW",
      "metadata": {
        "id": "grIbB9QtHsLW"
      },
      "outputs": [],
      "source": [
        "cust_name = []\n",
        "rev_date = []\n",
        "ratings = []\n",
        "rev_title = []\n",
        "rev_content = []\n",
        "page=1\n",
        "while page<501:\n",
        "  url = \"https://www.amazon.in/boAt-Display-Multiple-Monitoring-Charcoal/product-reviews/B09MQSCJQ1/ref=cm_cr_getr_d_paging_btm_next_\"+str(page)+\"?ie=UTF8&reviewerType=all_reviews&pageNumber=\"+str(page)\n",
        "  code = requests.get(url)\n",
        "  if str(code) == \"<Response [200]>\":\n",
        "    soup = BeautifulSoup(code.content,'html.parser')\n",
        "    for review in soup.find_all('div',{'data-hook':'review'}):\n",
        "      name = review.select('span.a-profile-name')[:]\n",
        "      titles = review.select('a.review-title span')\n",
        "      dates = review.select('span.review-date')[:]\n",
        "      stars = review.select('i.review-rating span.a-icon-alt')[:]\n",
        "      reviews = review.select('span.review-text-content span')[:]\n",
        "      if(name):\n",
        "        cust_name.append(name[0].get_text())\n",
        "      else:\n",
        "        cust_name.append('NAN')\n",
        "\n",
        "\n",
        "      if(titles):\n",
        "        rev_title.append(titles[0].get_text())\n",
        "      else:\n",
        "        rev_title.append('NAN')\n",
        "\n",
        "      if(dates):\n",
        "        rev_date.append(dates[0].get_text())\n",
        "      else:\n",
        "        rev_date.append('NAN')\n",
        "\n",
        "      if(stars):\n",
        "        ratings.append(stars[0].get_text())\n",
        "      else:\n",
        "        ratings.append('NAN')\n",
        "\n",
        "      if(reviews):\n",
        "        rev_content.append(reviews[len(reviews)-1].get_text())\n",
        "      else:\n",
        "        rev_content.append('NAN')\n",
        "\n",
        "    page+=1"
      ]
    },
    {
      "cell_type": "markdown",
      "source": [
        "# New Section"
      ],
      "metadata": {
        "id": "FxsJZxoyjBMi"
      },
      "id": "FxsJZxoyjBMi"
    },
    {
      "cell_type": "code",
      "execution_count": 4,
      "id": "asLb_YfMMPLK",
      "metadata": {
        "colab": {
          "base_uri": "https://localhost:8080/"
        },
        "id": "asLb_YfMMPLK",
        "outputId": "3cfe24d8-b5f0-41d3-be96-98b73515e14d"
      },
      "outputs": [
        {
          "output_type": "stream",
          "name": "stdout",
          "text": [
            "5000\n"
          ]
        }
      ],
      "source": [
        "print(len(cust_name))"
      ]
    },
    {
      "cell_type": "code",
      "execution_count": 5,
      "id": "correct-latin",
      "metadata": {
        "colab": {
          "base_uri": "https://localhost:8080/"
        },
        "id": "correct-latin",
        "outputId": "5dc1918d-8b1b-4541-c024-a0aaa652d764"
      },
      "outputs": [
        {
          "output_type": "stream",
          "name": "stdout",
          "text": [
            "5000\n"
          ]
        }
      ],
      "source": [
        "print(len(rev_content))"
      ]
    },
    {
      "cell_type": "code",
      "execution_count": 6,
      "id": "generous-affiliate",
      "metadata": {
        "colab": {
          "base_uri": "https://localhost:8080/",
          "height": 659
        },
        "id": "generous-affiliate",
        "outputId": "40edb7ce-8f35-478a-f85d-0b51767a43a5"
      },
      "outputs": [
        {
          "output_type": "execute_result",
          "data": {
            "text/plain": [
              "         Customer Name                                      Date  \\\n",
              "0                 Andy    Reviewed in India 🇮🇳 on 12 August 2021   \n",
              "1               archit       Reviewed in India 🇮🇳 on 17 May 2022   \n",
              "2            Arjun Sen  Reviewed in India 🇮🇳 on 16 December 2021   \n",
              "3                 HHNr    Reviewed in India 🇮🇳 on 2 October 2022   \n",
              "4            Ashfaq Rj   Reviewed in India 🇮🇳 on 17 October 2022   \n",
              "...                ...                                       ...   \n",
              "4995        Aman Ahmad   Reviewed in India 🇮🇳 on 7 November 2021   \n",
              "4996          Surj K R   Reviewed in India 🇮🇳 on 8 December 2021   \n",
              "4997            pankaj     Reviewed in India 🇮🇳 on 1 August 2021   \n",
              "4998  vikash choudhary   Reviewed in India 🇮🇳 on 7 November 2021   \n",
              "4999       Sanju itkar     Reviewed in India 🇮🇳 on 15 March 2022   \n",
              "\n",
              "                 Ratings                                       Review Title  \\\n",
              "0     5.0 out of 5 stars                                  Best Budget watch   \n",
              "1     3.0 out of 5 stars                                NOt worth the money   \n",
              "2     4.0 out of 5 stars                 Good budget smart watch with Alexa   \n",
              "3     4.0 out of 5 stars                                       Good product   \n",
              "4     4.0 out of 5 stars                                            Awesome   \n",
              "...                  ...                                                ...   \n",
              "4995  5.0 out of 5 stars                     The Best Smart watch in budget   \n",
              "4996  3.0 out of 5 stars                                       Good product   \n",
              "4997  4.0 out of 5 stars  Product is nice but Alexa not working yet . Is...   \n",
              "4998  3.0 out of 5 stars                   Bluetooth connectivity so poor 👎   \n",
              "4999  5.0 out of 5 stars                                    Quality iuus me   \n",
              "\n",
              "                                                Reviews  \n",
              "0      Used this watch for over a month now.. Bought...  \n",
              "1     Review OverviewAverage2.7The Boat today launch...  \n",
              "2     Pros:1. Premium build quality with matte finis...  \n",
              "3     It's over all a good product. Battery runs 7 d...  \n",
              "4     I am a very huge fan of boat especially there ...  \n",
              "...                                                 ...  \n",
              "4995  I love This Product By Boat Xtend Series Is Ve...  \n",
              "4996                                           Nice one  \n",
              "4997                                                NAN  \n",
              "4998      Build quality are good but connectivity poor.  \n",
              "4999                                         Returns of  \n",
              "\n",
              "[5000 rows x 5 columns]"
            ],
            "text/html": [
              "\n",
              "  <div id=\"df-bf62b185-9186-402d-8da8-f06d930cb042\">\n",
              "    <div class=\"colab-df-container\">\n",
              "      <div>\n",
              "<style scoped>\n",
              "    .dataframe tbody tr th:only-of-type {\n",
              "        vertical-align: middle;\n",
              "    }\n",
              "\n",
              "    .dataframe tbody tr th {\n",
              "        vertical-align: top;\n",
              "    }\n",
              "\n",
              "    .dataframe thead th {\n",
              "        text-align: right;\n",
              "    }\n",
              "</style>\n",
              "<table border=\"1\" class=\"dataframe\">\n",
              "  <thead>\n",
              "    <tr style=\"text-align: right;\">\n",
              "      <th></th>\n",
              "      <th>Customer Name</th>\n",
              "      <th>Date</th>\n",
              "      <th>Ratings</th>\n",
              "      <th>Review Title</th>\n",
              "      <th>Reviews</th>\n",
              "    </tr>\n",
              "  </thead>\n",
              "  <tbody>\n",
              "    <tr>\n",
              "      <th>0</th>\n",
              "      <td>Andy</td>\n",
              "      <td>Reviewed in India 🇮🇳 on 12 August 2021</td>\n",
              "      <td>5.0 out of 5 stars</td>\n",
              "      <td>Best Budget watch</td>\n",
              "      <td>Used this watch for over a month now.. Bought...</td>\n",
              "    </tr>\n",
              "    <tr>\n",
              "      <th>1</th>\n",
              "      <td>archit</td>\n",
              "      <td>Reviewed in India 🇮🇳 on 17 May 2022</td>\n",
              "      <td>3.0 out of 5 stars</td>\n",
              "      <td>NOt worth the money</td>\n",
              "      <td>Review OverviewAverage2.7The Boat today launch...</td>\n",
              "    </tr>\n",
              "    <tr>\n",
              "      <th>2</th>\n",
              "      <td>Arjun Sen</td>\n",
              "      <td>Reviewed in India 🇮🇳 on 16 December 2021</td>\n",
              "      <td>4.0 out of 5 stars</td>\n",
              "      <td>Good budget smart watch with Alexa</td>\n",
              "      <td>Pros:1. Premium build quality with matte finis...</td>\n",
              "    </tr>\n",
              "    <tr>\n",
              "      <th>3</th>\n",
              "      <td>HHNr</td>\n",
              "      <td>Reviewed in India 🇮🇳 on 2 October 2022</td>\n",
              "      <td>4.0 out of 5 stars</td>\n",
              "      <td>Good product</td>\n",
              "      <td>It's over all a good product. Battery runs 7 d...</td>\n",
              "    </tr>\n",
              "    <tr>\n",
              "      <th>4</th>\n",
              "      <td>Ashfaq Rj</td>\n",
              "      <td>Reviewed in India 🇮🇳 on 17 October 2022</td>\n",
              "      <td>4.0 out of 5 stars</td>\n",
              "      <td>Awesome</td>\n",
              "      <td>I am a very huge fan of boat especially there ...</td>\n",
              "    </tr>\n",
              "    <tr>\n",
              "      <th>...</th>\n",
              "      <td>...</td>\n",
              "      <td>...</td>\n",
              "      <td>...</td>\n",
              "      <td>...</td>\n",
              "      <td>...</td>\n",
              "    </tr>\n",
              "    <tr>\n",
              "      <th>4995</th>\n",
              "      <td>Aman Ahmad</td>\n",
              "      <td>Reviewed in India 🇮🇳 on 7 November 2021</td>\n",
              "      <td>5.0 out of 5 stars</td>\n",
              "      <td>The Best Smart watch in budget</td>\n",
              "      <td>I love This Product By Boat Xtend Series Is Ve...</td>\n",
              "    </tr>\n",
              "    <tr>\n",
              "      <th>4996</th>\n",
              "      <td>Surj K R</td>\n",
              "      <td>Reviewed in India 🇮🇳 on 8 December 2021</td>\n",
              "      <td>3.0 out of 5 stars</td>\n",
              "      <td>Good product</td>\n",
              "      <td>Nice one</td>\n",
              "    </tr>\n",
              "    <tr>\n",
              "      <th>4997</th>\n",
              "      <td>pankaj</td>\n",
              "      <td>Reviewed in India 🇮🇳 on 1 August 2021</td>\n",
              "      <td>4.0 out of 5 stars</td>\n",
              "      <td>Product is nice but Alexa not working yet . Is...</td>\n",
              "      <td>NAN</td>\n",
              "    </tr>\n",
              "    <tr>\n",
              "      <th>4998</th>\n",
              "      <td>vikash choudhary</td>\n",
              "      <td>Reviewed in India 🇮🇳 on 7 November 2021</td>\n",
              "      <td>3.0 out of 5 stars</td>\n",
              "      <td>Bluetooth connectivity so poor 👎</td>\n",
              "      <td>Build quality are good but connectivity poor.</td>\n",
              "    </tr>\n",
              "    <tr>\n",
              "      <th>4999</th>\n",
              "      <td>Sanju itkar</td>\n",
              "      <td>Reviewed in India 🇮🇳 on 15 March 2022</td>\n",
              "      <td>5.0 out of 5 stars</td>\n",
              "      <td>Quality iuus me</td>\n",
              "      <td>Returns of</td>\n",
              "    </tr>\n",
              "  </tbody>\n",
              "</table>\n",
              "<p>5000 rows × 5 columns</p>\n",
              "</div>\n",
              "      <button class=\"colab-df-convert\" onclick=\"convertToInteractive('df-bf62b185-9186-402d-8da8-f06d930cb042')\"\n",
              "              title=\"Convert this dataframe to an interactive table.\"\n",
              "              style=\"display:none;\">\n",
              "        \n",
              "  <svg xmlns=\"http://www.w3.org/2000/svg\" height=\"24px\"viewBox=\"0 0 24 24\"\n",
              "       width=\"24px\">\n",
              "    <path d=\"M0 0h24v24H0V0z\" fill=\"none\"/>\n",
              "    <path d=\"M18.56 5.44l.94 2.06.94-2.06 2.06-.94-2.06-.94-.94-2.06-.94 2.06-2.06.94zm-11 1L8.5 8.5l.94-2.06 2.06-.94-2.06-.94L8.5 2.5l-.94 2.06-2.06.94zm10 10l.94 2.06.94-2.06 2.06-.94-2.06-.94-.94-2.06-.94 2.06-2.06.94z\"/><path d=\"M17.41 7.96l-1.37-1.37c-.4-.4-.92-.59-1.43-.59-.52 0-1.04.2-1.43.59L10.3 9.45l-7.72 7.72c-.78.78-.78 2.05 0 2.83L4 21.41c.39.39.9.59 1.41.59.51 0 1.02-.2 1.41-.59l7.78-7.78 2.81-2.81c.8-.78.8-2.07 0-2.86zM5.41 20L4 18.59l7.72-7.72 1.47 1.35L5.41 20z\"/>\n",
              "  </svg>\n",
              "      </button>\n",
              "      \n",
              "  <style>\n",
              "    .colab-df-container {\n",
              "      display:flex;\n",
              "      flex-wrap:wrap;\n",
              "      gap: 12px;\n",
              "    }\n",
              "\n",
              "    .colab-df-convert {\n",
              "      background-color: #E8F0FE;\n",
              "      border: none;\n",
              "      border-radius: 50%;\n",
              "      cursor: pointer;\n",
              "      display: none;\n",
              "      fill: #1967D2;\n",
              "      height: 32px;\n",
              "      padding: 0 0 0 0;\n",
              "      width: 32px;\n",
              "    }\n",
              "\n",
              "    .colab-df-convert:hover {\n",
              "      background-color: #E2EBFA;\n",
              "      box-shadow: 0px 1px 2px rgba(60, 64, 67, 0.3), 0px 1px 3px 1px rgba(60, 64, 67, 0.15);\n",
              "      fill: #174EA6;\n",
              "    }\n",
              "\n",
              "    [theme=dark] .colab-df-convert {\n",
              "      background-color: #3B4455;\n",
              "      fill: #D2E3FC;\n",
              "    }\n",
              "\n",
              "    [theme=dark] .colab-df-convert:hover {\n",
              "      background-color: #434B5C;\n",
              "      box-shadow: 0px 1px 3px 1px rgba(0, 0, 0, 0.15);\n",
              "      filter: drop-shadow(0px 1px 2px rgba(0, 0, 0, 0.3));\n",
              "      fill: #FFFFFF;\n",
              "    }\n",
              "  </style>\n",
              "\n",
              "      <script>\n",
              "        const buttonEl =\n",
              "          document.querySelector('#df-bf62b185-9186-402d-8da8-f06d930cb042 button.colab-df-convert');\n",
              "        buttonEl.style.display =\n",
              "          google.colab.kernel.accessAllowed ? 'block' : 'none';\n",
              "\n",
              "        async function convertToInteractive(key) {\n",
              "          const element = document.querySelector('#df-bf62b185-9186-402d-8da8-f06d930cb042');\n",
              "          const dataTable =\n",
              "            await google.colab.kernel.invokeFunction('convertToInteractive',\n",
              "                                                     [key], {});\n",
              "          if (!dataTable) return;\n",
              "\n",
              "          const docLinkHtml = 'Like what you see? Visit the ' +\n",
              "            '<a target=\"_blank\" href=https://colab.research.google.com/notebooks/data_table.ipynb>data table notebook</a>'\n",
              "            + ' to learn more about interactive tables.';\n",
              "          element.innerHTML = '';\n",
              "          dataTable['output_type'] = 'display_data';\n",
              "          await google.colab.output.renderOutput(dataTable, element);\n",
              "          const docLink = document.createElement('div');\n",
              "          docLink.innerHTML = docLinkHtml;\n",
              "          element.appendChild(docLink);\n",
              "        }\n",
              "      </script>\n",
              "    </div>\n",
              "  </div>\n",
              "  "
            ]
          },
          "metadata": {},
          "execution_count": 6
        }
      ],
      "source": [
        "df = pd.DataFrame()\n",
        "df['Customer Name'] = cust_name\n",
        "df['Date'] = rev_date\n",
        "df['Ratings'] = ratings\n",
        "df['Review Title'] = rev_title\n",
        "df['Reviews'] = rev_content\n",
        "df"
      ]
    },
    {
      "cell_type": "code",
      "execution_count": 7,
      "id": "liable-banana",
      "metadata": {
        "id": "liable-banana"
      },
      "outputs": [],
      "source": [
        "df.to_csv(\"amazon.csv\")"
      ]
    },
    {
      "cell_type": "code",
      "execution_count": 7,
      "id": "sustainable-webcam",
      "metadata": {
        "id": "sustainable-webcam"
      },
      "outputs": [],
      "source": []
    }
  ],
  "metadata": {
    "colab": {
      "collapsed_sections": [],
      "provenance": [],
      "include_colab_link": true
    },
    "kernelspec": {
      "display_name": "Python 3.10.0 64-bit",
      "language": "python",
      "name": "python3"
    },
    "language_info": {
      "codemirror_mode": {
        "name": "ipython",
        "version": 3
      },
      "file_extension": ".py",
      "mimetype": "text/x-python",
      "name": "python",
      "nbconvert_exporter": "python",
      "pygments_lexer": "ipython3",
      "version": "3.10.0"
    },
    "vscode": {
      "interpreter": {
        "hash": "afb734500600fd355917ca529030176ea0ca205570884b88f2f6f7d791fd3fbe"
      }
    }
  },
  "nbformat": 4,
  "nbformat_minor": 5
}